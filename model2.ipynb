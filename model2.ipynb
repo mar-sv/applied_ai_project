{
 "cells": [
  {
   "cell_type": "code",
   "execution_count": 18,
   "metadata": {},
   "outputs": [],
   "source": [
    "import importlib\n",
    "import unsupervised_functions as lf \n",
    "importlib.reload(lf)\n",
    "from sklearn.model_selection import train_test_split\n",
    "import functions as func\n"
   ]
  },
  {
   "cell_type": "code",
   "execution_count": 19,
   "metadata": {},
   "outputs": [
    {
     "ename": "IndexError",
     "evalue": "index 28 is out of bounds for axis 1 with size 28",
     "output_type": "error",
     "traceback": [
      "\u001b[1;31m---------------------------------------------------------------------------\u001b[0m",
      "\u001b[1;31mIndexError\u001b[0m                                Traceback (most recent call last)",
      "Cell \u001b[1;32mIn[19], line 16\u001b[0m\n\u001b[0;32m     14\u001b[0m grid_color \u001b[38;5;241m=\u001b[39m lf\u001b[38;5;241m.\u001b[39mget_grid(ndim\u001b[38;5;241m=\u001b[39mnum_features)\n\u001b[0;32m     15\u001b[0m Confusion_Matrix \u001b[38;5;241m=\u001b[39m lf\u001b[38;5;241m.\u001b[39mget_empty_confusionmatrix(y_train\u001b[38;5;241m.\u001b[39mvalues)\n\u001b[1;32m---> 16\u001b[0m grid_color,Confusion_Matrix\u001b[38;5;241m=\u001b[39m\u001b[43mlf\u001b[49m\u001b[38;5;241;43m.\u001b[39;49m\u001b[43mSOM_Test\u001b[49m\u001b[43m(\u001b[49m\u001b[43mX_test\u001b[49m\u001b[38;5;241;43m.\u001b[39;49m\u001b[43mvalues\u001b[49m\u001b[43m,\u001b[49m\u001b[43m \u001b[49m\u001b[43mdefault_som\u001b[49m\u001b[43m,\u001b[49m\u001b[43m \u001b[49m\u001b[43my_test\u001b[49m\u001b[38;5;241;43m.\u001b[39;49m\u001b[43mvalues\u001b[49m\u001b[43m,\u001b[49m\u001b[43m \u001b[49m\u001b[43mgrid_color\u001b[49m\u001b[43m,\u001b[49m\u001b[43m \u001b[49m\u001b[43mConfusion_Matrix\u001b[49m\u001b[43m,\u001b[49m\u001b[43m \u001b[49m\u001b[43mnum_features\u001b[49m\u001b[43m)\u001b[49m\n\u001b[0;32m     19\u001b[0m accuracy_dict[dataset] \u001b[38;5;241m=\u001b[39m lf\u001b[38;5;241m.\u001b[39mget_accuracy(Confusion_Matrix)\n\u001b[0;32m     21\u001b[0m \u001b[38;5;28mprint\u001b[39m(\u001b[38;5;124mf\u001b[39m\u001b[38;5;124m\"\u001b[39m\u001b[38;5;124mDataset: \u001b[39m\u001b[38;5;132;01m{\u001b[39;00mdataset\u001b[38;5;132;01m}\u001b[39;00m\u001b[38;5;124m, accuracy:\u001b[39m\u001b[38;5;132;01m{\u001b[39;00m\u001b[38;5;241m100\u001b[39m\u001b[38;5;241m*\u001b[39mlf\u001b[38;5;241m.\u001b[39mget_accuracy(Confusion_Matrix)\u001b[38;5;132;01m:\u001b[39;00m\u001b[38;5;124m.2f\u001b[39m\u001b[38;5;132;01m}\u001b[39;00m\u001b[38;5;124m%\u001b[39m\u001b[38;5;124m\"\u001b[39m)\n",
      "File \u001b[1;32mc:\\Applied AI\\Applied_AI\\Applied AI project\\unsupervised_functions.py:81\u001b[0m, in \u001b[0;36mSOM_Test\u001b[1;34m(trainingData, som_, classes, grid_, ConfusionMatrix, ndim)\u001b[0m\n\u001b[0;32m     79\u001b[0m \u001b[38;5;28;01mfor\u001b[39;00m i \u001b[38;5;129;01min\u001b[39;00m \u001b[38;5;28mrange\u001b[39m(nrows):\n\u001b[0;32m     80\u001b[0m     \u001b[38;5;28;01mfor\u001b[39;00m j \u001b[38;5;129;01min\u001b[39;00m \u001b[38;5;28mrange\u001b[39m(ncols):\n\u001b[1;32m---> 81\u001b[0m         \u001b[43mgrid_\u001b[49m\u001b[43m[\u001b[49m\u001b[43mi\u001b[49m\u001b[43m,\u001b[49m\u001b[43m \u001b[49m\u001b[43mj\u001b[49m\u001b[43m]\u001b[49m \u001b[38;5;241m=\u001b[39m np\u001b[38;5;241m.\u001b[39margmax(som_cl[i, j, :])\n\u001b[0;32m     83\u001b[0m \u001b[38;5;28;01mfor\u001b[39;00m ntraining \u001b[38;5;129;01min\u001b[39;00m \u001b[38;5;28mrange\u001b[39m(ntrainingvectors):\n\u001b[0;32m     84\u001b[0m     trainingVector \u001b[38;5;241m=\u001b[39m trainingData[ntraining, :]\n",
      "\u001b[1;31mIndexError\u001b[0m: index 28 is out of bounds for axis 1 with size 28"
     ]
    }
   ],
   "source": [
    "\n",
    "#Train a som with default parameters and calculate the confusion matrix\n",
    "\n",
    "\n",
    "dataset_names = ['ecoli','dry_bean','seeds','cover_type','ozone']\n",
    "#dataset_names = ['seeds']\n",
    "accuracy_dict = {}\n",
    "for dataset in dataset_names:\n",
    "    data,target,num_targets,num_features = func.read_data(dataset)\n",
    "\n",
    "    X_train, X_test, y_train, y_test = train_test_split(data.drop(target,axis=1), data[target], test_size=0.33, random_state=42)\n",
    "\n",
    "    default_som = som_trained=lf.SOM([num_features,num_features],X_train.values, ndim=num_features, nepochs=10, eta0=0.01, etadecay=0.05, sgm0=20, sgmdecay=0.05, showMode=0,print_epoch=False)\n",
    "\n",
    "    grid_color = lf.get_grid(ndim=num_features)\n",
    "    Confusion_Matrix = lf.get_empty_confusionmatrix(y_train.values)\n",
    "    grid_color,Confusion_Matrix=lf.SOM_Test(X_test.values, default_som, y_test.values, grid_color, Confusion_Matrix, num_features)\n",
    "    \n",
    "\n",
    "    accuracy_dict[dataset] = lf.get_accuracy(Confusion_Matrix)\n",
    "\n",
    "    print(f\"Dataset: {dataset}, accuracy:{100*lf.get_accuracy(Confusion_Matrix):.2f}%\")\n",
    "    \n",
    "\n",
    "\n"
   ]
  },
  {
   "cell_type": "code",
   "execution_count": null,
   "metadata": {},
   "outputs": [
    {
     "data": {
      "text/plain": [
       "0.9142857142857143"
      ]
     },
     "execution_count": 12,
     "metadata": {},
     "output_type": "execute_result"
    }
   ],
   "source": [
    "accuracy_dict"
   ]
  },
  {
   "cell_type": "code",
   "execution_count": null,
   "metadata": {},
   "outputs": [],
   "source": []
  }
 ],
 "metadata": {
  "kernelspec": {
   "display_name": "base",
   "language": "python",
   "name": "python3"
  },
  "language_info": {
   "codemirror_mode": {
    "name": "ipython",
    "version": 3
   },
   "file_extension": ".py",
   "mimetype": "text/x-python",
   "name": "python",
   "nbconvert_exporter": "python",
   "pygments_lexer": "ipython3",
   "version": "3.10.12"
  }
 },
 "nbformat": 4,
 "nbformat_minor": 2
}

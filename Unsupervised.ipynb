{
 "cells": [
  {
   "cell_type": "code",
   "execution_count": 1,
   "metadata": {},
   "outputs": [
    {
     "name": "stdout",
     "output_type": "stream",
     "text": [
      "WARNING:tensorflow:From c:\\Users\\masv\\AppData\\Local\\miniforge3\\lib\\site-packages\\keras\\src\\losses.py:2976: The name tf.losses.sparse_softmax_cross_entropy is deprecated. Please use tf.compat.v1.losses.sparse_softmax_cross_entropy instead.\n",
      "\n"
     ]
    },
    {
     "data": {
      "text/plain": [
       "<module 'functions' from 'c:\\\\Applied AI\\\\Applied_AI\\\\Applied AI project\\\\applied_ai_project\\\\functions.py'>"
      ]
     },
     "execution_count": 1,
     "metadata": {},
     "output_type": "execute_result"
    }
   ],
   "source": [
    "import importlib\n",
    "import unsupervised_functions as lf \n",
    "importlib.reload(lf)\n",
    "from sklearn.model_selection import train_test_split\n",
    "import functions as func\n",
    "importlib.reload(func)\n"
   ]
  },
  {
   "cell_type": "code",
   "execution_count": 3,
   "metadata": {},
   "outputs": [
    {
     "name": "stdout",
     "output_type": "stream",
     "text": [
      "Dataset: ecoli, accuracy:100.00%\n",
      "Dataset: mammographic, accuracy:100.00%\n",
      "Dataset: seeds, accuracy:91.43%\n",
      "Dataset: yeast, accuracy:39.55%\n",
      "Dataset: ozone, accuracy:100.00%\n"
     ]
    }
   ],
   "source": [
    "\n",
    "#Train a som with default parameters and calculate the confusion matrix\n",
    "\n",
    "\n",
    "dataset_names = ['ecoli','mammographic','seeds','yeast','ozone']\n",
    "#dataset_names = ['mammographic','yeast']\n",
    "#dataset_names = ['seeds']\n",
    "accuracy_dict = {}\n",
    "for dataset in dataset_names:\n",
    "    data,target,num_targets,num_features = func.read_data(dataset)\n",
    "\n",
    "    X_train, X_test, y_train, y_test = train_test_split(data.drop(target,axis=1), data[target], test_size=0.33, random_state=42)\n",
    "\n",
    "    default_som = som_trained=lf.SOM([num_features,num_features],X_train.values, ndim=num_features, nepochs=10, eta0=0.01, etadecay=0.05, sgm0=20, sgmdecay=0.05, showMode=0,print_epoch=False)\n",
    "\n",
    "    grid_color = lf.get_grid(ndim=num_features)\n",
    "    Confusion_Matrix = lf.get_empty_confusionmatrix(y_train.values)\n",
    "    grid_color,Confusion_Matrix=lf.SOM_Test(X_test.values, default_som, y_test.values, grid_color, Confusion_Matrix, num_features)\n",
    "    \n",
    "\n",
    "    accuracy_dict[dataset] = lf.get_accuracy(Confusion_Matrix)\n",
    "\n",
    "    print(f\"Dataset: {dataset}, accuracy:{100*lf.get_accuracy(Confusion_Matrix):.2f}%\")\n",
    "    \n",
    "\n",
    "\n"
   ]
  }
 ],
 "metadata": {
  "kernelspec": {
   "display_name": "base",
   "language": "python",
   "name": "python3"
  },
  "language_info": {
   "codemirror_mode": {
    "name": "ipython",
    "version": 3
   },
   "file_extension": ".py",
   "mimetype": "text/x-python",
   "name": "python",
   "nbconvert_exporter": "python",
   "pygments_lexer": "ipython3",
   "version": "3.10.12"
  }
 },
 "nbformat": 4,
 "nbformat_minor": 2
}
